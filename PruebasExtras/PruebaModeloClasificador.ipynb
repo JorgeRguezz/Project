{
 "cells": [
  {
   "cell_type": "code",
   "execution_count": null,
   "metadata": {},
   "outputs": [
    {
     "name": "stderr",
     "output_type": "stream",
     "text": [
      "Device set to use cpu\n"
     ]
    },
    {
     "name": "stdout",
     "output_type": "stream",
     "text": [
      "Question: What is a venture capital?\n",
      "Predicted category: economics\n",
      "Confidence: 0.5913\n"
     ]
    },
    {
     "ename": "",
     "evalue": "",
     "output_type": "error",
     "traceback": [
      "\u001b[1;31mThe Kernel crashed while executing code in the current cell or a previous cell. \n",
      "\u001b[1;31mPlease review the code in the cell(s) to identify a possible cause of the failure. \n",
      "\u001b[1;31mClick <a href='https://aka.ms/vscodeJupyterKernelCrash'>here</a> for more info. \n",
      "\u001b[1;31mView Jupyter <a href='command:jupyter.viewOutput'>log</a> for further details."
     ]
    }
   ],
   "source": [
    "import json\n",
    "from transformers import AutoTokenizer, AutoModelForSequenceClassification, pipeline\n",
    "\n",
    "# Load model and tokenizer\n",
    "model_path = r\"C:\\Users\\rrjor\\Desktop\\UPM\\TFG\\modelo_mmlu_final\\modelo_mmlu_final\"\n",
    "model = AutoModelForSequenceClassification.from_pretrained(model_path)\n",
    "tokenizer = AutoTokenizer.from_pretrained(model_path)\n",
    "\n",
    "# Create classification pipeline\n",
    "classifier = pipeline(\"text-classification\", model=model, tokenizer=tokenizer)\n",
    "\n",
    "# Load the category mapping\n",
    "with open('categorias_a_id.json', 'r') as f:\n",
    "    categorias_a_id = json.load(f)\n",
    "\n",
    "# Create reverse mapping (from ID to category name)\n",
    "id_to_categoria = {v: k for k, v in categorias_a_id.items()}\n",
    "\n",
    "# Test the model\n",
    "question = \"What is a venture capital?\"\n",
    "formatted_question = f\"Classify the academic category: {question}\"\n",
    "result = classifier(formatted_question)\n",
    "\n",
    "# Extract the label ID from the result\n",
    "label_id = int(result[0]['label'].split('_')[1])  # This extracts the 8 from \"LABEL_8\"\n",
    "\n",
    "# Look up the category name\n",
    "category_name = id_to_categoria[label_id]\n",
    "\n",
    "print(f\"Question: {question}\")\n",
    "print(f\"Predicted category: {category_name}\")\n",
    "print(f\"Confidence: {result[0]['score']:.4f}\")"
   ]
  }
 ],
 "metadata": {
  "kernelspec": {
   "display_name": "Python 3",
   "language": "python",
   "name": "python3"
  },
  "language_info": {
   "codemirror_mode": {
    "name": "ipython",
    "version": 3
   },
   "file_extension": ".py",
   "mimetype": "text/x-python",
   "name": "python",
   "nbconvert_exporter": "python",
   "pygments_lexer": "ipython3",
   "version": "3.12.6"
  }
 },
 "nbformat": 4,
 "nbformat_minor": 2
}
